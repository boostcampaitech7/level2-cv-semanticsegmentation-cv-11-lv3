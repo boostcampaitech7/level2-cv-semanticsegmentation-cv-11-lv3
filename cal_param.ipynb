{
 "cells": [
  {
   "cell_type": "code",
   "execution_count": 1,
   "metadata": {},
   "outputs": [],
   "source": [
    "from pytorch.models.CUSTOM.custom_unet import CustomUNet\n",
    "from pytorch.models.SegFormer.segformer import SegFormer\n",
    "from pytorch.models.UNet.unet import UNet\n",
    "from torchvision.models.segmentation import fcn_resnet50\n",
    "from pytorch.models.NestedUNet.nestedunet import NestedUNet\n",
    "from pytorch.models.UNet3plus.unet3plus import UNet3Plus\n",
    "from pytorch.models.DUCKNet.duck_net import DUCKNet\n",
    "import torch\n",
    "import torch.nn"
   ]
  },
  {
   "cell_type": "code",
   "execution_count": 2,
   "metadata": {},
   "outputs": [],
   "source": [
    "def total_parameter(model):\n",
    "    params = sum(p.numel() for p in model.parameters())\n",
    "    print(f\"{type(model).__name__} : {params/1000000}M\")"
   ]
  },
  {
   "cell_type": "code",
   "execution_count": 3,
   "metadata": {},
   "outputs": [],
   "source": [
    "cunet = CustomUNet()\n",
    "segformer = SegFormer(num_classes=29)\n",
    "unet = UNet(in_channels=3, num_classes=29)\n",
    "fcn = fcn_resnet50(num_classes=29)\n",
    "no_nested = NestedUNet(in_channels=3, num_classes=29, deep_supervision=False)\n",
    "DS_nested = NestedUNet(in_channels=3, num_classes=29, deep_supervision=True)\n",
    "no_unet3plus = UNet3Plus(in_channels=3, num_classes=29, deep_supervision=False, cgm=False)\n",
    "DS_unet3plus = UNet3Plus(in_channels=3, num_classes=29, deep_supervision=True, cgm=False)\n",
    "CGM_unet3plus = UNet3Plus(in_channels=3, num_classes=29, deep_supervision=False, cgm=True)\n",
    "DS_CGM_unet3plus = UNet3Plus(in_channels=3, num_classes=29, deep_supervision=True, cgm=True)\n",
    "ducknet = DUCKNet(in_channels=3, num_classes=29, starting_filters=16)"
   ]
  },
  {
   "cell_type": "code",
   "execution_count": 4,
   "metadata": {},
   "outputs": [],
   "source": [
    "models = [cunet,\n",
    "          segformer,\n",
    "          unet,\n",
    "          fcn,\n",
    "          no_nested,\n",
    "          DS_nested,\n",
    "          no_unet3plus,\n",
    "          DS_unet3plus,\n",
    "          CGM_unet3plus,\n",
    "          DS_CGM_unet3plus,\n",
    "          ducknet]"
   ]
  },
  {
   "cell_type": "code",
   "execution_count": 5,
   "metadata": {},
   "outputs": [
    {
     "name": "stdout",
     "output_type": "stream",
     "text": [
      "CustomUNet : 19.086557M\n",
      "SegFormer : 98.591197M\n",
      "UNet : 23.382941M\n",
      "FCN : 32.961117M\n",
      "NestedUNet : 9.164253M\n",
      "NestedUNet : 9.167124M\n",
      "UNet3Plus : 27.572435M\n",
      "UNet3Plus : 27.572435M\n",
      "UNet3Plus : 27.572435M\n",
      "UNet3Plus : 27.572435M\n",
      "DUCKNet : 33.726163M\n"
     ]
    }
   ],
   "source": [
    "for m in models:\n",
    "    total_parameter(m)"
   ]
  }
 ],
 "metadata": {
  "kernelspec": {
   "display_name": "Python 3",
   "language": "python",
   "name": "python3"
  },
  "language_info": {
   "codemirror_mode": {
    "name": "ipython",
    "version": 3
   },
   "file_extension": ".py",
   "mimetype": "text/x-python",
   "name": "python",
   "nbconvert_exporter": "python",
   "pygments_lexer": "ipython3",
   "version": "3.12.7"
  }
 },
 "nbformat": 4,
 "nbformat_minor": 2
}
